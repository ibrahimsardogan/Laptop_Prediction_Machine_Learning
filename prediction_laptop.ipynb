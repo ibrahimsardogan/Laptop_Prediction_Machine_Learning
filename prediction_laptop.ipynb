{
 "cells": [
  {
   "cell_type": "code",
   "execution_count": 15,
   "id": "30b07e51",
   "metadata": {},
   "outputs": [],
   "source": [
    "import pandas as pd \n",
    "import numpy as np\n",
    "import joblib\n",
    "import pickle"
   ]
  },
  {
   "cell_type": "code",
   "execution_count": 30,
   "id": "15caf88b",
   "metadata": {},
   "outputs": [],
   "source": [
    "import warnings\n",
    "warnings.filterwarnings('ignore')"
   ]
  },
  {
   "cell_type": "code",
   "execution_count": 31,
   "id": "5850f052",
   "metadata": {},
   "outputs": [],
   "source": [
    "rf_model = joblib.load(\"./random_forest_model.pkl\")"
   ]
  },
  {
   "cell_type": "code",
   "execution_count": 32,
   "id": "183e9fd9",
   "metadata": {},
   "outputs": [],
   "source": [
    "def create_prediction_value(marka, ekran_boyutu, ekran_kartı, ekran_yenileme_hızı,\n",
    "                            hard_disk_kapasitesi, klavye, kullanım_amacı, ram_sistem_bellegi,\n",
    "                            ram_tipi, ssd_kapasitesi, cozunurluk_standartı, islemci_nesli,\n",
    "                            islemci_tipi, islemci_cekirdek_sayisi, isletim_sistemi):\n",
    "    res = pd.DataFrame(data=\n",
    "                       {\"marka\": [marka], \"ekran_boyutu\": [ekran_boyutu], \"ekran_kartı\": [ekran_kartı],\n",
    "                        \"ekran_yenileme_hızı\": [ekran_yenileme_hızı],\n",
    "                        \"hard_disk_kapasitesi\": [hard_disk_kapasitesi], \"klavye\": [klavye], \"kullanım_amacı\": [kullanım_amacı],\n",
    "                        \"ram_sistem_bellegi\": [ram_sistem_bellegi], \"ram_tipi\": [ram_tipi], \"ssd_kapasitesi\": [ssd_kapasitesi],\n",
    "                        \"cozunurluk_standartı\": [cozunurluk_standartı], \"islemci_nesli\": [islemci_nesli],\n",
    "                        \"islemci_tipi\": [islemci_tipi],\n",
    "                        \"islemci_cekirdek_sayisi\": [islemci_cekirdek_sayisi], \"isletim_sistemi\": [isletim_sistemi]})\n",
    "    return res"
   ]
  },
  {
   "cell_type": "code",
   "execution_count": 33,
   "id": "2fcae4d6",
   "metadata": {},
   "outputs": [],
   "source": [
    "def cozunurluk_standartı(cozunurluk_standartı):\n",
    "    if cozunurluk_standartı == 'Full HD (FHD)':\n",
    "        return 0\n",
    "    elif cozunurluk_standartı == 'Retina':\n",
    "        return 2\n",
    "    elif cozunurluk_standartı == 'QHD+':\n",
    "        return 3\n",
    "    elif cozunurluk_standartı == 'Ultra HD 4K (UHD)':\n",
    "        return 4\n",
    "    elif cozunurluk_standartı == 'WQHD':\n",
    "        return 7\n",
    "    elif cozunurluk_standartı == 'WUXGA':\n",
    "        return 9\n",
    "    elif cozunurluk_standartı == 'QHD':\n",
    "        return 5\n",
    "    elif cozunurluk_standartı == 'WQXGA':\n",
    "        return 8\n",
    "    elif cozunurluk_standartı == 'OLED 2.8K':\n",
    "        return 6\n",
    "    elif cozunurluk_standartı == 'Dokunmatik':\n",
    "        return 10\n",
    "    else:\n",
    "        return \n",
    "    "
   ]
  },
  {
   "cell_type": "code",
   "execution_count": 34,
   "id": "07598dc7",
   "metadata": {},
   "outputs": [],
   "source": [
    "def kulanım_amacı(kulanım_amacı):\n",
    "    if kulanım_amacı == 'Ev - Okul':\n",
    "        return 0\n",
    "    elif kulanım_amacı == 'Ofis - İş':\n",
    "        return 1\n",
    "    elif kullanım_amacı == 'Oyun':\n",
    "        return 2\n",
    "    else:\n",
    "        return"
   ]
  },
  {
   "cell_type": "code",
   "execution_count": 35,
   "id": "1383bcf9",
   "metadata": {},
   "outputs": [],
   "source": [
    "def klavye(klavye):\n",
    "    if klavye == 'Q Türkçe':\n",
    "        return 0\n",
    "    elif klavye == 'Q Türkçe Aydınlatmalı':\n",
    "        return 1\n",
    "    else:\n",
    "        return"
   ]
  },
  {
   "cell_type": "code",
   "execution_count": 36,
   "id": "4986e087",
   "metadata": {},
   "outputs": [],
   "source": [
    "def marka(marka):\n",
    "    if marka == 'HP':\n",
    "        return 7\n",
    "    elif marka == 'Lenovo':\n",
    "        return 9\n",
    "    elif marka == 'Apple':\n",
    "        return 1\n",
    "    elif marka == 'Huawei':\n",
    "        return 8\n",
    "    elif marka == 'Casper':\n",
    "        return 3\n",
    "    elif marka == 'Asus':\n",
    "        return 2\n",
    "    elif marka == 'ACER':\n",
    "        return 0\n",
    "    elif marka == 'MSI':\n",
    "        return 10\n",
    "    elif marka == 'Monster':\n",
    "        return 11\n",
    "    elif marka == 'Dell':\n",
    "        return 4\n",
    "    elif marka == 'Everest':\n",
    "        return 5\n",
    "    elif marka == 'Toshiba':\n",
    "        return 13\n",
    "    elif marka == 'Samsung':\n",
    "        return 12\n",
    "    elif marka == 'Gigabyte':\n",
    "        return 6\n",
    "    elif marka == 'Xiaomi':\n",
    "        return 14\n",
    "    else:\n",
    "        return\n",
    "    "
   ]
  },
  {
   "cell_type": "code",
   "execution_count": 37,
   "id": "8f7e937b",
   "metadata": {},
   "outputs": [],
   "source": [
    "def ekran_kartı(ekran_kartı):\n",
    "    if ekran_kartı == 'Dahili Ekran Kartı':\n",
    "        return 2\n",
    "    elif ekran_kartı == 'AMD':\n",
    "        return 0\n",
    "    elif ekran_kartı == 'Intel':\n",
    "        return 3\n",
    "    elif ekran_kartı == 'Nvidia':\n",
    "        return 4\n",
    "    elif ekran_kartı == 'Apple':\n",
    "        return 1\n",
    "    elif ekran_kartı == 'Diğer':\n",
    "        return 3\n",
    "    else:\n",
    "        return"
   ]
  },
  {
   "cell_type": "code",
   "execution_count": 38,
   "id": "0c1a0cae",
   "metadata": {},
   "outputs": [],
   "source": [
    "def isletim_sistemi(isletim_sistemi):\n",
    "    if isletim_sistemi == 'Free Dos':\n",
    "        return 0\n",
    "    elif isletim_sistemi == 'Mac Os':\n",
    "        return 2\n",
    "    elif isletim_sistemi == 'Windows':\n",
    "        return 3\n",
    "    elif isletim_sistemi == 'Linux':\n",
    "        return 1\n",
    "    else:\n",
    "        return"
   ]
  },
  {
   "cell_type": "code",
   "execution_count": 39,
   "id": "f6538dc1",
   "metadata": {},
   "outputs": [],
   "source": [
    "def ram_tipi(ram_tipi):\n",
    "    if ram_tipi == 'DDR4':\n",
    "        return 1\n",
    "    elif ram_tipi == 'DDR5':\n",
    "        return 2\n",
    "    elif ram_tipi == 'DDR3':\n",
    "        return 0\n",
    "    else:\n",
    "        return"
   ]
  },
  {
   "cell_type": "code",
   "execution_count": 40,
   "id": "db6e277b",
   "metadata": {},
   "outputs": [],
   "source": [
    "def islemci_tipi(islemci_tipi):\n",
    "    if islemci_tipi == 'Intel Core i5':\n",
    "        return 6\n",
    "    elif islemci_tipi == 'AMD Ryzen 7':\n",
    "        return 2\n",
    "    elif islemci_tipi == 'Intel Celeron':\n",
    "        return 4\n",
    "    elif islemci_tipi == 'M2':\n",
    "        return 10\n",
    "    elif islemci_tipi == 'AMD Ryzen 3':\n",
    "        return 0\n",
    "    elif islemci_tipi == 'M1':\n",
    "        return 9\n",
    "    elif islemci_tipi == 'Intel Core i7':\n",
    "        return 7\n",
    "    elif islemci_tipi == 'Intel Core i3':\n",
    "        return 5\n",
    "    elif islemci_tipi == 'AMD Ryzen 5':\n",
    "        return 1\n",
    "    elif islemci_tipi == 'Intel Core i9':\n",
    "        return 8\n",
    "    elif islemci_tipi == 'M3':\n",
    "        return 11\n",
    "    elif islemci_tipi == 'AMD Ryzen 9':\n",
    "        return 3\n",
    "    else:\n",
    "        return"
   ]
  },
  {
   "cell_type": "code",
   "execution_count": 41,
   "id": "98c6dbd1",
   "metadata": {},
   "outputs": [],
   "source": [
    "def predict_model(res):\n",
    "    print(\"random forest model result: \" + str((rf_model.predict(res))).strip('[]') + \" TL\")"
   ]
  },
  {
   "cell_type": "code",
   "execution_count": 42,
   "id": "2bbe8771",
   "metadata": {},
   "outputs": [
    {
     "name": "stdout",
     "output_type": "stream",
     "text": [
      "random forest model result: 33.00189 TL\n"
     ]
    }
   ],
   "source": [
    "predict_value= create_prediction_value(marka(\"Monster\"),15.6,ekran_kartı(\"AMD\"),140,500,1,2,32,\n",
    "                                       ram_tipi(\"DDR4\"),500,0,11,islemci_tipi(\"Intel Core i7\"),\n",
    "                                       8,isletim_sistemi(\"Windows\"))\n",
    "predict_model(predict_value)"
   ]
  },
  {
   "cell_type": "code",
   "execution_count": 43,
   "id": "726f24da",
   "metadata": {},
   "outputs": [
    {
     "name": "stdout",
     "output_type": "stream",
     "text": [
      "random forest model result: 20.95839667 TL\n"
     ]
    }
   ],
   "source": [
    "predict_value= create_prediction_value(marka(\"Huawei\"),13,ekran_kartı(\"Dahili Ekran Kartı\"),120,0,0,1,8,\n",
    "                                       ram_tipi(\"DDR4\"),500,0,12,islemci_tipi(\"Intel Core i3\"),\n",
    "                                       8,isletim_sistemi(\"Free Dos\"))\n",
    "predict_model(predict_value)"
   ]
  },
  {
   "cell_type": "code",
   "execution_count": 44,
   "id": "0c529c1a",
   "metadata": {},
   "outputs": [
    {
     "name": "stdout",
     "output_type": "stream",
     "text": [
      "random forest model result: 14.80631 TL\n"
     ]
    }
   ],
   "source": [
    " predict_value= create_prediction_value(marka(\"Huawei\"),0,ekran_kartı(\"Dahili Ekran Kartı\"),0,0,0,0,0,\n",
    "                                       ram_tipi(\"DDR4\"),0,0,0,islemci_tipi(\"Intel Core i3\"),\n",
    "                                       0,isletim_sistemi(\"Free Dos\"))\n",
    "predict_model(predict_value)"
   ]
  },
  {
   "cell_type": "code",
   "execution_count": 47,
   "id": "4e3f1567",
   "metadata": {},
   "outputs": [
    {
     "name": "stdout",
     "output_type": "stream",
     "text": [
      "random forest model result: 71.77886 TL\n"
     ]
    }
   ],
   "source": [
    "predict_value= create_prediction_value(marka(\"MSI\"),17.3,ekran_kartı(\"Nvidia\"),240,500,0,2,16,\n",
    "                                       ram_tipi(\"DDR5\"),1024,5,12,islemci_tipi(\"Intel Core i7\"),\n",
    "                                       8,isletim_sistemi(\"Windows\"))\n",
    "predict_model(predict_value)"
   ]
  },
  {
   "cell_type": "code",
   "execution_count": null,
   "id": "94702f99",
   "metadata": {},
   "outputs": [],
   "source": []
  },
  {
   "cell_type": "code",
   "execution_count": null,
   "id": "565c16de",
   "metadata": {},
   "outputs": [],
   "source": []
  }
 ],
 "metadata": {
  "kernelspec": {
   "display_name": "Python 3 (ipykernel)",
   "language": "python",
   "name": "python3"
  },
  "language_info": {
   "codemirror_mode": {
    "name": "ipython",
    "version": 3
   },
   "file_extension": ".py",
   "mimetype": "text/x-python",
   "name": "python",
   "nbconvert_exporter": "python",
   "pygments_lexer": "ipython3",
   "version": "3.11.5"
  }
 },
 "nbformat": 4,
 "nbformat_minor": 5
}
